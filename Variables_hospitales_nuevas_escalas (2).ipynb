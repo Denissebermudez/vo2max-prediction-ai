{
  "cells": [
    {
      "cell_type": "code",
      "execution_count": null,
      "metadata": {
        "id": "qUIIsnL4hK-U"
      },
      "outputs": [],
      "source": [
        "#Importar librerias\n",
        "import pandas as pd\n",
        "import numpy as np\n",
        "from sklearn.model_selection import train_test_split\n",
        "from sklearn.neighbors import KNeighborsRegressor\n",
        "from sklearn.metrics import mean_squared_error\n"
      ]
    },
    {
      "cell_type": "code",
      "execution_count": null,
      "metadata": {
        "id": "yrGEPisEhaJn"
      },
      "outputs": [],
      "source": [
        "#Cargar archivos\n",
        "subject_info = pd.read_csv('/content/subject-info.csv')\n",
        "test_measure = pd.read_csv('/content/test_measure.csv')\n"
      ]
    },
    {
      "cell_type": "code",
      "execution_count": null,
      "metadata": {
        "id": "unOKi55rheJ5"
      },
      "outputs": [],
      "source": [
        "#Eliminar variables no deseadas\n",
        "subject_info_clean = subject_info[['ID_test', 'Age', 'Weight', 'Height', 'Temperature', 'Sex']]\n",
        "# Nos quedamos solo con las variables necesarias\n",
        "test_measure_clean = test_measure[['ID_test', 'HR', 'RR', 'VO2']]"
      ]
    },
    {
      "cell_type": "code",
      "execution_count": null,
      "metadata": {
        "colab": {
          "base_uri": "https://localhost:8080/"
        },
        "id": "l6ReakmRhrUk",
        "outputId": "96a8258e-ba9f-4470-8d85-4b68e3bac5ab"
      },
      "outputs": [
        {
          "output_type": "stream",
          "name": "stdout",
          "text": [
            "Pruebas con VO2 máximo detectado: 981 de 992\n"
          ]
        }
      ],
      "source": [
        "# Paso 4.1: Eliminar filas que no tienen datos de VO2\n",
        "test_measure_clean_vo2 = test_measure_clean.dropna(subset=['VO2'])\n",
        "\n",
        "# Paso 4.2: Para cada prueba (ID_test), obtener la fila donde se alcanza el valor máximo de VO2\n",
        "vo2max_data = test_measure_clean_vo2.loc[\n",
        "    test_measure_clean_vo2.groupby('ID_test')['VO2'].idxmax()\n",
        "]\n",
        "\n",
        "# Paso 4.3: Verificar cuántas pruebas completas con VO2 tenemos\n",
        "pruebas_totales = subject_info['ID_test'].nunique()\n",
        "pruebas_con_vo2 = vo2max_data['ID_test'].nunique()\n",
        "\n",
        "print(f\"Pruebas con VO2 máximo detectado: {pruebas_con_vo2} de {pruebas_totales}\")"
      ]
    },
    {
      "cell_type": "code",
      "execution_count": null,
      "metadata": {
        "id": "SRsqxzALiYrx"
      },
      "outputs": [],
      "source": [
        "# Unimos por ID_test\n",
        "final_data = pd.merge(vo2max_data, subject_info_clean, on='ID_test')\n",
        "\n",
        "#Convertir VO2 a ml/kg/min\n",
        "final_data[\"VO2ml_kg_min\"] = final_data[\"VO2\"] / final_data[\"Weight\"]\n",
        "\n",
        "# Imputar con la mediana\n",
        "final_data['HR'] = final_data['HR'].fillna(final_data['HR'].median())\n",
        "final_data['Temperature'] = final_data['Temperature'].fillna(final_data['Temperature'].median())\n",
        "\n",
        "# Variables predictoras y objetivo\n",
        "X = final_data[['Age', 'Weight', 'Height', 'Temperature', 'Sex', 'HR', 'RR']]\n",
        "y = final_data[\"VO2ml_kg_min\"]   #  nueva escala correcta\n",
        "\n"
      ]
    },
    {
      "cell_type": "code",
      "execution_count": null,
      "metadata": {
        "colab": {
          "base_uri": "https://localhost:8080/"
        },
        "id": "0Xv8iCx0i5BD",
        "outputId": "f9a3d6ec-a58a-4898-f463-d2a38aabe70e"
      },
      "outputs": [
        {
          "output_type": "stream",
          "name": "stdout",
          "text": [
            "Valores faltantes por columna:\n",
            "ID_test         0\n",
            "HR              0\n",
            "RR              0\n",
            "VO2             0\n",
            "Age             0\n",
            "Weight          0\n",
            "Height          0\n",
            "Temperature     0\n",
            "Sex             0\n",
            "VO2ml_kg_min    0\n",
            "dtype: int64\n"
          ]
        }
      ],
      "source": [
        "# Ver valores faltantes por columna\n",
        "print(\"Valores faltantes por columna:\")\n",
        "print(final_data.isnull().sum())"
      ]
    },
    {
      "cell_type": "code",
      "execution_count": null,
      "metadata": {
        "id": "IFBuI_-hieG_"
      },
      "outputs": [],
      "source": [
        "X_train, X_test, y_train, y_test = train_test_split(X, y, test_size=0.2, random_state=42)"
      ]
    },
    {
      "cell_type": "code",
      "execution_count": null,
      "metadata": {
        "colab": {
          "base_uri": "https://localhost:8080/",
          "height": 80
        },
        "id": "1v0h-vCmihwx",
        "outputId": "e3e13140-a482-4da6-903f-b00a6413409d"
      },
      "outputs": [
        {
          "output_type": "execute_result",
          "data": {
            "text/plain": [
              "KNeighborsRegressor(n_neighbors=3)"
            ],
            "text/html": [
              "<style>#sk-container-id-1 {\n",
              "  /* Definition of color scheme common for light and dark mode */\n",
              "  --sklearn-color-text: #000;\n",
              "  --sklearn-color-text-muted: #666;\n",
              "  --sklearn-color-line: gray;\n",
              "  /* Definition of color scheme for unfitted estimators */\n",
              "  --sklearn-color-unfitted-level-0: #fff5e6;\n",
              "  --sklearn-color-unfitted-level-1: #f6e4d2;\n",
              "  --sklearn-color-unfitted-level-2: #ffe0b3;\n",
              "  --sklearn-color-unfitted-level-3: chocolate;\n",
              "  /* Definition of color scheme for fitted estimators */\n",
              "  --sklearn-color-fitted-level-0: #f0f8ff;\n",
              "  --sklearn-color-fitted-level-1: #d4ebff;\n",
              "  --sklearn-color-fitted-level-2: #b3dbfd;\n",
              "  --sklearn-color-fitted-level-3: cornflowerblue;\n",
              "\n",
              "  /* Specific color for light theme */\n",
              "  --sklearn-color-text-on-default-background: var(--sg-text-color, var(--theme-code-foreground, var(--jp-content-font-color1, black)));\n",
              "  --sklearn-color-background: var(--sg-background-color, var(--theme-background, var(--jp-layout-color0, white)));\n",
              "  --sklearn-color-border-box: var(--sg-text-color, var(--theme-code-foreground, var(--jp-content-font-color1, black)));\n",
              "  --sklearn-color-icon: #696969;\n",
              "\n",
              "  @media (prefers-color-scheme: dark) {\n",
              "    /* Redefinition of color scheme for dark theme */\n",
              "    --sklearn-color-text-on-default-background: var(--sg-text-color, var(--theme-code-foreground, var(--jp-content-font-color1, white)));\n",
              "    --sklearn-color-background: var(--sg-background-color, var(--theme-background, var(--jp-layout-color0, #111)));\n",
              "    --sklearn-color-border-box: var(--sg-text-color, var(--theme-code-foreground, var(--jp-content-font-color1, white)));\n",
              "    --sklearn-color-icon: #878787;\n",
              "  }\n",
              "}\n",
              "\n",
              "#sk-container-id-1 {\n",
              "  color: var(--sklearn-color-text);\n",
              "}\n",
              "\n",
              "#sk-container-id-1 pre {\n",
              "  padding: 0;\n",
              "}\n",
              "\n",
              "#sk-container-id-1 input.sk-hidden--visually {\n",
              "  border: 0;\n",
              "  clip: rect(1px 1px 1px 1px);\n",
              "  clip: rect(1px, 1px, 1px, 1px);\n",
              "  height: 1px;\n",
              "  margin: -1px;\n",
              "  overflow: hidden;\n",
              "  padding: 0;\n",
              "  position: absolute;\n",
              "  width: 1px;\n",
              "}\n",
              "\n",
              "#sk-container-id-1 div.sk-dashed-wrapped {\n",
              "  border: 1px dashed var(--sklearn-color-line);\n",
              "  margin: 0 0.4em 0.5em 0.4em;\n",
              "  box-sizing: border-box;\n",
              "  padding-bottom: 0.4em;\n",
              "  background-color: var(--sklearn-color-background);\n",
              "}\n",
              "\n",
              "#sk-container-id-1 div.sk-container {\n",
              "  /* jupyter's `normalize.less` sets `[hidden] { display: none; }`\n",
              "     but bootstrap.min.css set `[hidden] { display: none !important; }`\n",
              "     so we also need the `!important` here to be able to override the\n",
              "     default hidden behavior on the sphinx rendered scikit-learn.org.\n",
              "     See: https://github.com/scikit-learn/scikit-learn/issues/21755 */\n",
              "  display: inline-block !important;\n",
              "  position: relative;\n",
              "}\n",
              "\n",
              "#sk-container-id-1 div.sk-text-repr-fallback {\n",
              "  display: none;\n",
              "}\n",
              "\n",
              "div.sk-parallel-item,\n",
              "div.sk-serial,\n",
              "div.sk-item {\n",
              "  /* draw centered vertical line to link estimators */\n",
              "  background-image: linear-gradient(var(--sklearn-color-text-on-default-background), var(--sklearn-color-text-on-default-background));\n",
              "  background-size: 2px 100%;\n",
              "  background-repeat: no-repeat;\n",
              "  background-position: center center;\n",
              "}\n",
              "\n",
              "/* Parallel-specific style estimator block */\n",
              "\n",
              "#sk-container-id-1 div.sk-parallel-item::after {\n",
              "  content: \"\";\n",
              "  width: 100%;\n",
              "  border-bottom: 2px solid var(--sklearn-color-text-on-default-background);\n",
              "  flex-grow: 1;\n",
              "}\n",
              "\n",
              "#sk-container-id-1 div.sk-parallel {\n",
              "  display: flex;\n",
              "  align-items: stretch;\n",
              "  justify-content: center;\n",
              "  background-color: var(--sklearn-color-background);\n",
              "  position: relative;\n",
              "}\n",
              "\n",
              "#sk-container-id-1 div.sk-parallel-item {\n",
              "  display: flex;\n",
              "  flex-direction: column;\n",
              "}\n",
              "\n",
              "#sk-container-id-1 div.sk-parallel-item:first-child::after {\n",
              "  align-self: flex-end;\n",
              "  width: 50%;\n",
              "}\n",
              "\n",
              "#sk-container-id-1 div.sk-parallel-item:last-child::after {\n",
              "  align-self: flex-start;\n",
              "  width: 50%;\n",
              "}\n",
              "\n",
              "#sk-container-id-1 div.sk-parallel-item:only-child::after {\n",
              "  width: 0;\n",
              "}\n",
              "\n",
              "/* Serial-specific style estimator block */\n",
              "\n",
              "#sk-container-id-1 div.sk-serial {\n",
              "  display: flex;\n",
              "  flex-direction: column;\n",
              "  align-items: center;\n",
              "  background-color: var(--sklearn-color-background);\n",
              "  padding-right: 1em;\n",
              "  padding-left: 1em;\n",
              "}\n",
              "\n",
              "\n",
              "/* Toggleable style: style used for estimator/Pipeline/ColumnTransformer box that is\n",
              "clickable and can be expanded/collapsed.\n",
              "- Pipeline and ColumnTransformer use this feature and define the default style\n",
              "- Estimators will overwrite some part of the style using the `sk-estimator` class\n",
              "*/\n",
              "\n",
              "/* Pipeline and ColumnTransformer style (default) */\n",
              "\n",
              "#sk-container-id-1 div.sk-toggleable {\n",
              "  /* Default theme specific background. It is overwritten whether we have a\n",
              "  specific estimator or a Pipeline/ColumnTransformer */\n",
              "  background-color: var(--sklearn-color-background);\n",
              "}\n",
              "\n",
              "/* Toggleable label */\n",
              "#sk-container-id-1 label.sk-toggleable__label {\n",
              "  cursor: pointer;\n",
              "  display: flex;\n",
              "  width: 100%;\n",
              "  margin-bottom: 0;\n",
              "  padding: 0.5em;\n",
              "  box-sizing: border-box;\n",
              "  text-align: center;\n",
              "  align-items: start;\n",
              "  justify-content: space-between;\n",
              "  gap: 0.5em;\n",
              "}\n",
              "\n",
              "#sk-container-id-1 label.sk-toggleable__label .caption {\n",
              "  font-size: 0.6rem;\n",
              "  font-weight: lighter;\n",
              "  color: var(--sklearn-color-text-muted);\n",
              "}\n",
              "\n",
              "#sk-container-id-1 label.sk-toggleable__label-arrow:before {\n",
              "  /* Arrow on the left of the label */\n",
              "  content: \"▸\";\n",
              "  float: left;\n",
              "  margin-right: 0.25em;\n",
              "  color: var(--sklearn-color-icon);\n",
              "}\n",
              "\n",
              "#sk-container-id-1 label.sk-toggleable__label-arrow:hover:before {\n",
              "  color: var(--sklearn-color-text);\n",
              "}\n",
              "\n",
              "/* Toggleable content - dropdown */\n",
              "\n",
              "#sk-container-id-1 div.sk-toggleable__content {\n",
              "  max-height: 0;\n",
              "  max-width: 0;\n",
              "  overflow: hidden;\n",
              "  text-align: left;\n",
              "  /* unfitted */\n",
              "  background-color: var(--sklearn-color-unfitted-level-0);\n",
              "}\n",
              "\n",
              "#sk-container-id-1 div.sk-toggleable__content.fitted {\n",
              "  /* fitted */\n",
              "  background-color: var(--sklearn-color-fitted-level-0);\n",
              "}\n",
              "\n",
              "#sk-container-id-1 div.sk-toggleable__content pre {\n",
              "  margin: 0.2em;\n",
              "  border-radius: 0.25em;\n",
              "  color: var(--sklearn-color-text);\n",
              "  /* unfitted */\n",
              "  background-color: var(--sklearn-color-unfitted-level-0);\n",
              "}\n",
              "\n",
              "#sk-container-id-1 div.sk-toggleable__content.fitted pre {\n",
              "  /* unfitted */\n",
              "  background-color: var(--sklearn-color-fitted-level-0);\n",
              "}\n",
              "\n",
              "#sk-container-id-1 input.sk-toggleable__control:checked~div.sk-toggleable__content {\n",
              "  /* Expand drop-down */\n",
              "  max-height: 200px;\n",
              "  max-width: 100%;\n",
              "  overflow: auto;\n",
              "}\n",
              "\n",
              "#sk-container-id-1 input.sk-toggleable__control:checked~label.sk-toggleable__label-arrow:before {\n",
              "  content: \"▾\";\n",
              "}\n",
              "\n",
              "/* Pipeline/ColumnTransformer-specific style */\n",
              "\n",
              "#sk-container-id-1 div.sk-label input.sk-toggleable__control:checked~label.sk-toggleable__label {\n",
              "  color: var(--sklearn-color-text);\n",
              "  background-color: var(--sklearn-color-unfitted-level-2);\n",
              "}\n",
              "\n",
              "#sk-container-id-1 div.sk-label.fitted input.sk-toggleable__control:checked~label.sk-toggleable__label {\n",
              "  background-color: var(--sklearn-color-fitted-level-2);\n",
              "}\n",
              "\n",
              "/* Estimator-specific style */\n",
              "\n",
              "/* Colorize estimator box */\n",
              "#sk-container-id-1 div.sk-estimator input.sk-toggleable__control:checked~label.sk-toggleable__label {\n",
              "  /* unfitted */\n",
              "  background-color: var(--sklearn-color-unfitted-level-2);\n",
              "}\n",
              "\n",
              "#sk-container-id-1 div.sk-estimator.fitted input.sk-toggleable__control:checked~label.sk-toggleable__label {\n",
              "  /* fitted */\n",
              "  background-color: var(--sklearn-color-fitted-level-2);\n",
              "}\n",
              "\n",
              "#sk-container-id-1 div.sk-label label.sk-toggleable__label,\n",
              "#sk-container-id-1 div.sk-label label {\n",
              "  /* The background is the default theme color */\n",
              "  color: var(--sklearn-color-text-on-default-background);\n",
              "}\n",
              "\n",
              "/* On hover, darken the color of the background */\n",
              "#sk-container-id-1 div.sk-label:hover label.sk-toggleable__label {\n",
              "  color: var(--sklearn-color-text);\n",
              "  background-color: var(--sklearn-color-unfitted-level-2);\n",
              "}\n",
              "\n",
              "/* Label box, darken color on hover, fitted */\n",
              "#sk-container-id-1 div.sk-label.fitted:hover label.sk-toggleable__label.fitted {\n",
              "  color: var(--sklearn-color-text);\n",
              "  background-color: var(--sklearn-color-fitted-level-2);\n",
              "}\n",
              "\n",
              "/* Estimator label */\n",
              "\n",
              "#sk-container-id-1 div.sk-label label {\n",
              "  font-family: monospace;\n",
              "  font-weight: bold;\n",
              "  display: inline-block;\n",
              "  line-height: 1.2em;\n",
              "}\n",
              "\n",
              "#sk-container-id-1 div.sk-label-container {\n",
              "  text-align: center;\n",
              "}\n",
              "\n",
              "/* Estimator-specific */\n",
              "#sk-container-id-1 div.sk-estimator {\n",
              "  font-family: monospace;\n",
              "  border: 1px dotted var(--sklearn-color-border-box);\n",
              "  border-radius: 0.25em;\n",
              "  box-sizing: border-box;\n",
              "  margin-bottom: 0.5em;\n",
              "  /* unfitted */\n",
              "  background-color: var(--sklearn-color-unfitted-level-0);\n",
              "}\n",
              "\n",
              "#sk-container-id-1 div.sk-estimator.fitted {\n",
              "  /* fitted */\n",
              "  background-color: var(--sklearn-color-fitted-level-0);\n",
              "}\n",
              "\n",
              "/* on hover */\n",
              "#sk-container-id-1 div.sk-estimator:hover {\n",
              "  /* unfitted */\n",
              "  background-color: var(--sklearn-color-unfitted-level-2);\n",
              "}\n",
              "\n",
              "#sk-container-id-1 div.sk-estimator.fitted:hover {\n",
              "  /* fitted */\n",
              "  background-color: var(--sklearn-color-fitted-level-2);\n",
              "}\n",
              "\n",
              "/* Specification for estimator info (e.g. \"i\" and \"?\") */\n",
              "\n",
              "/* Common style for \"i\" and \"?\" */\n",
              "\n",
              ".sk-estimator-doc-link,\n",
              "a:link.sk-estimator-doc-link,\n",
              "a:visited.sk-estimator-doc-link {\n",
              "  float: right;\n",
              "  font-size: smaller;\n",
              "  line-height: 1em;\n",
              "  font-family: monospace;\n",
              "  background-color: var(--sklearn-color-background);\n",
              "  border-radius: 1em;\n",
              "  height: 1em;\n",
              "  width: 1em;\n",
              "  text-decoration: none !important;\n",
              "  margin-left: 0.5em;\n",
              "  text-align: center;\n",
              "  /* unfitted */\n",
              "  border: var(--sklearn-color-unfitted-level-1) 1pt solid;\n",
              "  color: var(--sklearn-color-unfitted-level-1);\n",
              "}\n",
              "\n",
              ".sk-estimator-doc-link.fitted,\n",
              "a:link.sk-estimator-doc-link.fitted,\n",
              "a:visited.sk-estimator-doc-link.fitted {\n",
              "  /* fitted */\n",
              "  border: var(--sklearn-color-fitted-level-1) 1pt solid;\n",
              "  color: var(--sklearn-color-fitted-level-1);\n",
              "}\n",
              "\n",
              "/* On hover */\n",
              "div.sk-estimator:hover .sk-estimator-doc-link:hover,\n",
              ".sk-estimator-doc-link:hover,\n",
              "div.sk-label-container:hover .sk-estimator-doc-link:hover,\n",
              ".sk-estimator-doc-link:hover {\n",
              "  /* unfitted */\n",
              "  background-color: var(--sklearn-color-unfitted-level-3);\n",
              "  color: var(--sklearn-color-background);\n",
              "  text-decoration: none;\n",
              "}\n",
              "\n",
              "div.sk-estimator.fitted:hover .sk-estimator-doc-link.fitted:hover,\n",
              ".sk-estimator-doc-link.fitted:hover,\n",
              "div.sk-label-container:hover .sk-estimator-doc-link.fitted:hover,\n",
              ".sk-estimator-doc-link.fitted:hover {\n",
              "  /* fitted */\n",
              "  background-color: var(--sklearn-color-fitted-level-3);\n",
              "  color: var(--sklearn-color-background);\n",
              "  text-decoration: none;\n",
              "}\n",
              "\n",
              "/* Span, style for the box shown on hovering the info icon */\n",
              ".sk-estimator-doc-link span {\n",
              "  display: none;\n",
              "  z-index: 9999;\n",
              "  position: relative;\n",
              "  font-weight: normal;\n",
              "  right: .2ex;\n",
              "  padding: .5ex;\n",
              "  margin: .5ex;\n",
              "  width: min-content;\n",
              "  min-width: 20ex;\n",
              "  max-width: 50ex;\n",
              "  color: var(--sklearn-color-text);\n",
              "  box-shadow: 2pt 2pt 4pt #999;\n",
              "  /* unfitted */\n",
              "  background: var(--sklearn-color-unfitted-level-0);\n",
              "  border: .5pt solid var(--sklearn-color-unfitted-level-3);\n",
              "}\n",
              "\n",
              ".sk-estimator-doc-link.fitted span {\n",
              "  /* fitted */\n",
              "  background: var(--sklearn-color-fitted-level-0);\n",
              "  border: var(--sklearn-color-fitted-level-3);\n",
              "}\n",
              "\n",
              ".sk-estimator-doc-link:hover span {\n",
              "  display: block;\n",
              "}\n",
              "\n",
              "/* \"?\"-specific style due to the `<a>` HTML tag */\n",
              "\n",
              "#sk-container-id-1 a.estimator_doc_link {\n",
              "  float: right;\n",
              "  font-size: 1rem;\n",
              "  line-height: 1em;\n",
              "  font-family: monospace;\n",
              "  background-color: var(--sklearn-color-background);\n",
              "  border-radius: 1rem;\n",
              "  height: 1rem;\n",
              "  width: 1rem;\n",
              "  text-decoration: none;\n",
              "  /* unfitted */\n",
              "  color: var(--sklearn-color-unfitted-level-1);\n",
              "  border: var(--sklearn-color-unfitted-level-1) 1pt solid;\n",
              "}\n",
              "\n",
              "#sk-container-id-1 a.estimator_doc_link.fitted {\n",
              "  /* fitted */\n",
              "  border: var(--sklearn-color-fitted-level-1) 1pt solid;\n",
              "  color: var(--sklearn-color-fitted-level-1);\n",
              "}\n",
              "\n",
              "/* On hover */\n",
              "#sk-container-id-1 a.estimator_doc_link:hover {\n",
              "  /* unfitted */\n",
              "  background-color: var(--sklearn-color-unfitted-level-3);\n",
              "  color: var(--sklearn-color-background);\n",
              "  text-decoration: none;\n",
              "}\n",
              "\n",
              "#sk-container-id-1 a.estimator_doc_link.fitted:hover {\n",
              "  /* fitted */\n",
              "  background-color: var(--sklearn-color-fitted-level-3);\n",
              "}\n",
              "</style><div id=\"sk-container-id-1\" class=\"sk-top-container\"><div class=\"sk-text-repr-fallback\"><pre>KNeighborsRegressor(n_neighbors=3)</pre><b>In a Jupyter environment, please rerun this cell to show the HTML representation or trust the notebook. <br />On GitHub, the HTML representation is unable to render, please try loading this page with nbviewer.org.</b></div><div class=\"sk-container\" hidden><div class=\"sk-item\"><div class=\"sk-estimator fitted sk-toggleable\"><input class=\"sk-toggleable__control sk-hidden--visually\" id=\"sk-estimator-id-1\" type=\"checkbox\" checked><label for=\"sk-estimator-id-1\" class=\"sk-toggleable__label fitted sk-toggleable__label-arrow\"><div><div>KNeighborsRegressor</div></div><div><a class=\"sk-estimator-doc-link fitted\" rel=\"noreferrer\" target=\"_blank\" href=\"https://scikit-learn.org/1.6/modules/generated/sklearn.neighbors.KNeighborsRegressor.html\">?<span>Documentation for KNeighborsRegressor</span></a><span class=\"sk-estimator-doc-link fitted\">i<span>Fitted</span></span></div></label><div class=\"sk-toggleable__content fitted\"><pre>KNeighborsRegressor(n_neighbors=3)</pre></div> </div></div></div></div>"
            ]
          },
          "metadata": {},
          "execution_count": 9
        }
      ],
      "source": [
        "knn = KNeighborsRegressor(n_neighbors=3)\n",
        "knn.fit(X_train, y_train)"
      ]
    },
    {
      "cell_type": "code",
      "execution_count": null,
      "metadata": {
        "colab": {
          "base_uri": "https://localhost:8080/"
        },
        "id": "auUbb_n4j-Ad",
        "outputId": "82359c2a-266c-4a25-d944-4ea408980cb7"
      },
      "outputs": [
        {
          "output_type": "stream",
          "name": "stdout",
          "text": [
            "RMSE del modelo KNN: 9.09\n"
          ]
        }
      ],
      "source": [
        "y_pred = knn.predict(X_test)\n",
        "rmse = np.sqrt(mean_squared_error(y_test, y_pred))\n",
        "print(f'RMSE del modelo KNN: {rmse:.2f}')"
      ]
    },
    {
      "cell_type": "code",
      "execution_count": null,
      "metadata": {
        "colab": {
          "base_uri": "https://localhost:8080/",
          "height": 472
        },
        "id": "dNTtFGnUkkAG",
        "outputId": "5a6d3d05-a04c-4fde-b5fc-a0333c2002b7"
      },
      "outputs": [
        {
          "output_type": "display_data",
          "data": {
            "text/plain": [
              "<Figure size 640x480 with 1 Axes>"
            ],
            "image/png": "[encoded data removed]"
          },
          "metadata": {}
        }
      ],
      "source": [
        "import matplotlib.pyplot as plt\n",
        "plt.scatter(y_test, y_pred)\n",
        "plt.xlabel(\"VO2max real\")\n",
        "plt.ylabel(\"VO2max predicho\")\n",
        "plt.title(\"Comparación de predicciones KNN\")\n",
        "plt.plot([y.min(), y.max()], [y.min(), y.max()], 'r--')\n",
        "plt.grid(True)\n",
        "plt.show()\n"
      ]
    },
    {
      "cell_type": "code",
      "execution_count": null,
      "metadata": {
        "colab": {
          "base_uri": "https://localhost:8080/",
          "height": 740
        },
        "id": "R44mEihekup2",
        "outputId": "76fde2f5-1b7d-4a5d-c601-4a93a2c5611f"
      },
      "outputs": [
        {
          "output_type": "stream",
          "name": "stdout",
          "text": [
            "k = 1: RMSE = 10.06\n",
            "k = 2: RMSE = 9.18\n",
            "k = 3: RMSE = 9.09\n",
            "k = 4: RMSE = 8.88\n",
            "k = 5: RMSE = 8.85\n",
            "k = 6: RMSE = 8.80\n",
            "k = 7: RMSE = 8.64\n",
            "k = 8: RMSE = 8.45\n",
            "k = 9: RMSE = 8.45\n",
            "k = 10: RMSE = 8.47\n",
            "k = 11: RMSE = 8.46\n",
            "k = 12: RMSE = 8.52\n",
            "k = 13: RMSE = 8.50\n",
            "k = 14: RMSE = 8.40\n",
            "k = 15: RMSE = 8.44\n"
          ]
        },
        {
          "output_type": "display_data",
          "data": {
            "text/plain": [
              "<Figure size 640x480 with 1 Axes>"
            ],
            "image/png": "[encoded data removed]"
          },
          "metadata": {}
        }
      ],
      "source": [
        "import matplotlib.pyplot as plt\n",
        "\n",
        "# Probar valores de k de 1 a 15\n",
        "rmse_values = []\n",
        "k_values = range(1, 16)\n",
        "\n",
        "for k in k_values:\n",
        "    knn = KNeighborsRegressor(n_neighbors=k)\n",
        "    knn.fit(X_train, y_train)\n",
        "    y_pred = knn.predict(X_test)\n",
        "    rmse = np.sqrt(mean_squared_error(y_test, y_pred))\n",
        "    rmse_values.append(rmse)\n",
        "    print(f'k = {k}: RMSE = {rmse:.2f}')\n",
        "\n",
        "# Graficar los resultados\n",
        "plt.plot(k_values, rmse_values, marker='o')\n",
        "plt.title('RMSE vs Número de vecinos (k)')\n",
        "plt.xlabel('Número de vecinos (k)')\n",
        "plt.ylabel('RMSE')\n",
        "plt.grid(True)\n",
        "plt.show()\n"
      ]
    },
    {
      "cell_type": "code",
      "execution_count": null,
      "metadata": {
        "colab": {
          "base_uri": "https://localhost:8080/"
        },
        "id": "-puu1qnOlMl9",
        "outputId": "29101de9-83ce-4b61-a379-21d050e1c299"
      },
      "outputs": [
        {
          "output_type": "stream",
          "name": "stdout",
          "text": [
            "RMSE con ponderación por distancia: 8.36\n"
          ]
        }
      ],
      "source": [
        "knn = KNeighborsRegressor(n_neighbors=14, weights='distance')\n",
        "knn.fit(X_train, y_train)\n",
        "y_pred = knn.predict(X_test)\n",
        "rmse = np.sqrt(mean_squared_error(y_test, y_pred))\n",
        "print(f'RMSE con ponderación por distancia: {rmse:.2f}')\n"
      ]
    },
    {
      "cell_type": "code",
      "execution_count": null,
      "metadata": {
        "colab": {
          "base_uri": "https://localhost:8080/"
        },
        "id": "U6HZJupbAnqi",
        "outputId": "b18b9e77-004d-4b2e-de40-7022eb1ebac1"
      },
      "outputs": [
        {
          "output_type": "stream",
          "name": "stdout",
          "text": [
            "RMSE del modelo LASSO: 8.15\n",
            "      Variable  Coef_LASSO\n",
            "0          Age   -0.000000\n",
            "1       Weight   -1.877109\n",
            "2       Height    0.000000\n",
            "3  Temperature    0.000000\n",
            "4          Sex   -2.606612\n",
            "5           HR    0.000000\n",
            "6           RR    1.915721\n"
          ]
        }
      ],
      "source": [
        "#LASSO.\n",
        "\n",
        "# 1. Importar librerías necesarias\n",
        "from sklearn.linear_model import Lasso\n",
        "from sklearn.preprocessing import StandardScaler\n",
        "\n",
        "# 2. Estandarizar las variables predictoras (sin tocar las originales)\n",
        "scaler = StandardScaler()\n",
        "X_train_scaled = scaler.fit_transform(X_train)\n",
        "X_test_scaled = scaler.transform(X_test)\n",
        "\n",
        "# 3. Entrenar modelo LASSO\n",
        "lasso = Lasso(alpha=1.0, max_iter=10000)\n",
        "lasso.fit(X_train_scaled, y_train)\n",
        "\n",
        "# 4. Predicciones y evaluación\n",
        "y_pred_lasso = lasso.predict(X_test_scaled)\n",
        "rmse_lasso = np.sqrt(mean_squared_error(y_test, y_pred_lasso))\n",
        "print(f'RMSE del modelo LASSO: {rmse_lasso:.2f}')\n",
        "\n",
        "# 5. Ver coeficientes de las variables\n",
        "coef_df = pd.DataFrame({\n",
        "    'Variable': X.columns,\n",
        "    'Coef_LASSO': lasso.coef_\n",
        "})\n",
        "print(coef_df)\n"
      ]
    },
    {
      "cell_type": "code",
      "execution_count": null,
      "metadata": {
        "colab": {
          "base_uri": "https://localhost:8080/"
        },
        "id": "2MZSW2o8A6-w",
        "outputId": "b59a6791-f8f8-4cfd-9365-eca72a609bf5"
      },
      "outputs": [
        {
          "output_type": "stream",
          "name": "stdout",
          "text": [
            "alpha = 0.0001: RMSE = 7.37\n",
            "alpha = 0.001: RMSE = 7.37\n",
            "alpha = 0.01: RMSE = 7.37\n",
            "alpha = 0.1: RMSE = 7.40\n",
            "alpha = 0.5: RMSE = 7.69\n",
            "alpha = 1: RMSE = 8.15\n",
            "alpha = 5: RMSE = 9.57\n",
            "alpha = 10: RMSE = 9.57\n"
          ]
        }
      ],
      "source": [
        "alphas = [0.0001, 0.001, 0.01, 0.1, 0.5, 1, 5, 10]\n",
        "rmse_values = []\n",
        "\n",
        "for a in alphas:\n",
        "    lasso = Lasso(alpha=a, max_iter=10000)\n",
        "    lasso.fit(X_train_scaled, y_train)\n",
        "    y_pred = lasso.predict(X_test_scaled)\n",
        "    rmse = np.sqrt(mean_squared_error(y_test, y_pred))\n",
        "    rmse_values.append(rmse)\n",
        "    print(f'alpha = {a}: RMSE = {rmse:.2f}')\n"
      ]
    },
    {
      "cell_type": "code",
      "execution_count": null,
      "metadata": {
        "colab": {
          "base_uri": "https://localhost:8080/"
        },
        "id": "zl7Q82TsBQXz",
        "outputId": "fb8a408b-b3dd-4056-d3b8-bbe050154266"
      },
      "outputs": [
        {
          "output_type": "stream",
          "name": "stdout",
          "text": [
            "RMSE del modelo SVR: 7.81\n"
          ]
        }
      ],
      "source": [
        "#SVR\n",
        "from sklearn.svm import SVR\n",
        "\n",
        "# Crear el modelo SVR con parámetros iniciales\n",
        "svr = SVR(kernel='rbf', C=1.0, epsilon=0.1)\n",
        "svr.fit(X_train_scaled, y_train)\n",
        "\n",
        "# Predecir y calcular RMSE\n",
        "y_pred_svr = svr.predict(X_test_scaled)\n",
        "rmse_svr = np.sqrt(mean_squared_error(y_test, y_pred_svr))\n",
        "print(f'RMSE del modelo SVR: {rmse_svr:.2f}')\n"
      ]
    },
    {
      "cell_type": "code",
      "execution_count": null,
      "metadata": {
        "colab": {
          "base_uri": "https://localhost:8080/"
        },
        "id": "7PPwwdlmBagx",
        "outputId": "9b2da03c-52fc-4077-b388-cf30f93dfb88"
      },
      "outputs": [
        {
          "output_type": "stream",
          "name": "stdout",
          "text": [
            "C=0.1, epsilon=0.01 → RMSE = 8.72\n",
            "C=0.1, epsilon=0.1 → RMSE = 8.72\n",
            "C=0.1, epsilon=0.5 → RMSE = 8.72\n",
            "C=1, epsilon=0.01 → RMSE = 7.80\n",
            "C=1, epsilon=0.1 → RMSE = 7.81\n",
            "C=1, epsilon=0.5 → RMSE = 7.81\n",
            "C=10, epsilon=0.01 → RMSE = 7.65\n",
            "C=10, epsilon=0.1 → RMSE = 7.64\n",
            "C=10, epsilon=0.5 → RMSE = 7.61\n",
            "C=100, epsilon=0.01 → RMSE = 8.53\n",
            "C=100, epsilon=0.1 → RMSE = 8.51\n",
            "C=100, epsilon=0.5 → RMSE = 8.45\n",
            "\n",
            "Mejor combinación: C=10, epsilon=0.5 → RMSE = 7.61\n"
          ]
        }
      ],
      "source": [
        "#AJUSTES SVR, distintos valores de C y epsilon con kernel 'rbf'\n",
        "from sklearn.svm import SVR\n",
        "\n",
        "c_values = [0.1, 1, 10, 100]\n",
        "epsilons = [0.01, 0.1, 0.5]\n",
        "best_rmse = float('inf')\n",
        "best_params = None\n",
        "\n",
        "for c in c_values:\n",
        "    for eps in epsilons:\n",
        "        svr = SVR(kernel='rbf', C=c, epsilon=eps)\n",
        "        svr.fit(X_train_scaled, y_train)\n",
        "        y_pred = svr.predict(X_test_scaled)\n",
        "        rmse = np.sqrt(mean_squared_error(y_test, y_pred))\n",
        "        print(f'C={c}, epsilon={eps} → RMSE = {rmse:.2f}')\n",
        "\n",
        "        if rmse < best_rmse:\n",
        "            best_rmse = rmse\n",
        "            best_params = (c, eps)\n",
        "\n",
        "print(f\"\\nMejor combinación: C={best_params[0]}, epsilon={best_params[1]} → RMSE = {best_rmse:.2f}\")\n"
      ]
    },
    {
      "cell_type": "code",
      "execution_count": null,
      "metadata": {
        "colab": {
          "base_uri": "https://localhost:8080/"
        },
        "id": "_JMm8SYsB2QZ",
        "outputId": "8a62cfd1-2357-42c1-c4d3-82926bb87cab"
      },
      "outputs": [
        {
          "output_type": "stream",
          "name": "stdout",
          "text": [
            "RMSE del modelo Random Forest: 7.83\n",
            "      Variable  Importancia\n",
            "1       Weight     0.245890\n",
            "6           RR     0.209362\n",
            "3  Temperature     0.123118\n",
            "4          Sex     0.118065\n",
            "0          Age     0.112316\n",
            "2       Height     0.102929\n",
            "5           HR     0.088319\n"
          ]
        }
      ],
      "source": [
        "#Random Forest\n",
        "from sklearn.ensemble import RandomForestRegressor\n",
        "from sklearn.metrics import mean_squared_error\n",
        "import pandas as pd\n",
        "import numpy as np\n",
        "\n",
        "# Entrenar modelo Random Forest\n",
        "rf = RandomForestRegressor(n_estimators=100, random_state=42)\n",
        "rf.fit(X_train, y_train)\n",
        "\n",
        "# Predecir y calcular RMSE\n",
        "y_pred_rf = rf.predict(X_test)\n",
        "rmse_rf = np.sqrt(mean_squared_error(y_test, y_pred_rf))\n",
        "print(f'RMSE del modelo Random Forest: {rmse_rf:.2f}')\n",
        "\n",
        "# Ver importancia de variables\n",
        "importances = rf.feature_importances_\n",
        "variables = X.columns\n",
        "\n",
        "importancia_df = pd.DataFrame({\n",
        "    'Variable': variables,\n",
        "    'Importancia': importances\n",
        "}).sort_values(by='Importancia', ascending=False)\n",
        "\n",
        "print(importancia_df)\n"
      ]
    },
    {
      "cell_type": "code",
      "execution_count": null,
      "metadata": {
        "colab": {
          "base_uri": "https://localhost:8080/"
        },
        "id": "YP9Q-zO6CWuV",
        "outputId": "29088c1e-7dd5-4dd8-91b1-f6d9e3321ed7"
      },
      "outputs": [
        {
          "output_type": "stream",
          "name": "stdout",
          "text": [
            "RMSE del modelo XGBoost: 7.84\n"
          ]
        }
      ],
      "source": [
        "#XGBRegressor\n",
        "from xgboost import XGBRegressor\n",
        "\n",
        "xgb = XGBRegressor(n_estimators=100, learning_rate=0.1, random_state=42)\n",
        "xgb.fit(X_train, y_train)\n",
        "y_pred_xgb = xgb.predict(X_test)\n",
        "rmse_xgb = np.sqrt(mean_squared_error(y_test, y_pred_xgb))\n",
        "print(f'RMSE del modelo XGBoost: {rmse_xgb:.2f}')\n"
      ]
    },
    {
      "cell_type": "code",
      "execution_count": null,
      "metadata": {
        "colab": {
          "base_uri": "https://localhost:8080/",
          "height": 786
        },
        "id": "xkX6KEaKPpfn",
        "outputId": "f63fb6d1-eeec-4273-c13e-08b97877f159"
      },
      "outputs": [
        {
          "output_type": "stream",
          "name": "stdout",
          "text": [
            "\n",
            "Correlación de cada variable con VO2max (ordenada):\n",
            "RR             0.367558\n",
            "HR             0.111087\n",
            "Height         0.092747\n",
            "Temperature    0.059879\n",
            "Age           -0.144171\n",
            "Weight        -0.238938\n",
            "Sex           -0.358585\n",
            "Name: VO2ml_kg_min, dtype: float64\n"
          ]
        },
        {
          "output_type": "display_data",
          "data": {
            "text/plain": [
              "<Figure size 1000x600 with 2 Axes>"
            ],
            "image/png": "[encoded data removed]"
          },
          "metadata": {}
        }
      ],
      "source": [
        "import seaborn as sns\n",
        "import matplotlib.pyplot as plt\n",
        "\n",
        "# Unir X e y para análisis de correlación\n",
        "df_corr = pd.concat([X, y], axis=1)\n",
        "\n",
        "# Calcular matriz de correlación\n",
        "corr_matrix = df_corr.corr()\n",
        "\n",
        "# Mostrar correlación ordenada respecto a VO2\n",
        "print(\"\\nCorrelación de cada variable con VO2max (ordenada):\")\n",
        "print(corr_matrix['VO2ml_kg_min'].drop('VO2ml_kg_min').sort_values(ascending=False))\n",
        "\n",
        "# Graficar heatmap\n",
        "plt.figure(figsize=(10, 6))\n",
        "sns.heatmap(corr_matrix, annot=True, cmap='coolwarm', fmt=\".2f\")\n",
        "plt.title(\"Matriz de Correlación entre Variables\")\n",
        "plt.tight_layout()\n",
        "plt.show()\n"
      ]
    },
    {
      "cell_type": "code",
      "execution_count": null,
      "metadata": {
        "colab": {
          "base_uri": "https://localhost:8080/"
        },
        "id": "JDTrlNZngL1K",
        "outputId": "447cd77c-5cea-4c09-8254-6f5a7bd61120"
      },
      "outputs": [
        {
          "output_type": "stream",
          "name": "stdout",
          "text": [
            "KNN → MAE: 6.66, R²: 0.22\n",
            "LASSO → MAE: 6.38, R²: 0.27\n",
            "SVR → MAE: 5.91, R²: 0.33\n",
            "Random Forest → MAE: 6.07, R²: 0.33\n",
            "XGBoost → MAE: 6.10, R²: 0.33\n"
          ]
        }
      ],
      "source": [
        "from sklearn.metrics import mean_absolute_error, r2_score\n",
        "\n",
        "# KNN\n",
        "mae_knn = mean_absolute_error(y_test, y_pred)\n",
        "r2_knn = r2_score(y_test, y_pred)\n",
        "print(f'KNN → MAE: {mae_knn:.2f}, R²: {r2_knn:.2f}')\n",
        "\n",
        "# LASSO\n",
        "mae_lasso = mean_absolute_error(y_test, y_pred_lasso)\n",
        "r2_lasso = r2_score(y_test, y_pred_lasso)\n",
        "print(f'LASSO → MAE: {mae_lasso:.2f}, R²: {r2_lasso:.2f}')\n",
        "\n",
        "# SVR\n",
        "mae_svr = mean_absolute_error(y_test, y_pred_svr)\n",
        "r2_svr = r2_score(y_test, y_pred_svr)\n",
        "print(f'SVR → MAE: {mae_svr:.2f}, R²: {r2_svr:.2f}')\n",
        "\n",
        "# Random Forest\n",
        "mae_rf = mean_absolute_error(y_test, y_pred_rf)\n",
        "r2_rf = r2_score(y_test, y_pred_rf)\n",
        "print(f'Random Forest → MAE: {mae_rf:.2f}, R²: {r2_rf:.2f}')\n",
        "\n",
        "# XGBoost\n",
        "mae_xgb = mean_absolute_error(y_test, y_pred_xgb)\n",
        "r2_xgb = r2_score(y_test, y_pred_xgb)\n",
        "print(f'XGBoost → MAE: {mae_xgb:.2f}, R²: {r2_xgb:.2f}')\n",
        "\n"
      ]
    },
    {
      "cell_type": "code",
      "source": [
        "from sklearn.linear_model import LinearRegression\n",
        "\n",
        "# Entrenar modelo de regresión lineal múltiple\n",
        "mlr = LinearRegression()\n",
        "mlr.fit(X_train, y_train)\n",
        "\n",
        "# Predecir y calcular métricas\n",
        "y_pred_mlr = mlr.predict(X_test)\n",
        "\n",
        "rmse_mlr = np.sqrt(mean_squared_error(y_test, y_pred_mlr))\n",
        "mae_mlr = mean_absolute_error(y_test, y_pred_mlr)\n",
        "r2_mlr = r2_score(y_test, y_pred_mlr)\n",
        "\n",
        "print(f'MLR → RMSE: {rmse_mlr:.2f}, MAE: {mae_mlr:.2f}, R²: {r2_mlr:.2f}')\n"
      ],
      "metadata": {
        "id": "d9Zu2tqO2oUu",
        "outputId": "2c1efabe-41d7-444a-de11-bc15f7bb804d",
        "colab": {
          "base_uri": "https://localhost:8080/"
        }
      },
      "execution_count": null,
      "outputs": [
        {
          "output_type": "stream",
          "name": "stdout",
          "text": [
            "MLR → RMSE: 7.37, MAE: 5.79, R²: 0.40\n"
          ]
        }
      ]
    }
  ],
  "metadata": {
    "colab": {
      "provenance": []
    },
    "kernelspec": {
      "display_name": "Python 3",
      "name": "python3"
    },
    "language_info": {
      "name": "python"
    }
  },
  "nbformat": 4,
  "nbformat_minor": 0
}